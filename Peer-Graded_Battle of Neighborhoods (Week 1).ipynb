{
 "cells": [
  {
   "cell_type": "markdown",
   "metadata": {},
   "source": [
    "# IBM Peer-Grade\n",
    "# Battle of Neighborhoods (Week 1)"
   ]
  },
  {
   "cell_type": "markdown",
   "metadata": {},
   "source": [
    "## Introduction / Business Problem"
   ]
  },
  {
   "cell_type": "markdown",
   "metadata": {},
   "source": [
    "Obesity is a common and serious issue in United States. According to World Atlas, a website that covers demography and sociology topics all over the world, the most obese country in North America is the United States.  \n",
    "  \n",
    "Recent years, US citizens have been paying more attention to healthy lifestyle. People are more willing to spend more money in eating healthy food and to live a healthy life. These include spending money in sport activities, signing up for gym membership and hiring of personal trainer.  \n",
    "  \n",
    "This provides opportunities for businesses that are offering fitness service, including gym and fitness center. United States is a big country and it has a huge population. United States is also a developed country. Majority of the citizens are able to spend their earning income in areas beside of necessities.  \n",
    "  \n",
    "However, United States is such a big country and it is illogical to open new business in every single state, especially for small company and new entrepreneur. Thus, it is very important for us to conduct research before venturing into our Gym Business. With limited resources, we want our target audience to target only the states with the highest opportunities. \n",
    "  \n",
    "Since population is one of the most important factors in determining a successful gym business, we will prepare population data of each city in United States.  \n",
    "  \n",
    "Some of the audiences that we are targeting are small business personnel who likes to venture into gym business and medium enterprise which wants to take advantage of gym franchises.\n",
    "  \n",
    "In this project, we will use Foursquare data to obtain some of the most common venues within our targeted cities. "
   ]
  },
  {
   "cell_type": "markdown",
   "metadata": {},
   "source": [
    "## Data Preparation  \n",
    "### Web Scraping"
   ]
  },
  {
   "cell_type": "markdown",
   "metadata": {},
   "source": [
    "### 1. Get the list of United States cities and City Population."
   ]
  },
  {
   "cell_type": "markdown",
   "metadata": {},
   "source": [
    "The wikipedia article of \"List of United States cities by population\" provides  the table of United States cities, sorted in order by the city population.  \n",
    "  \n",
    "We use BeatifulSoup4 to scrape the table data from the article. We also scrape other data such as population density and land area. Cleaning is required to ensure a neat and useful table. We drop some columns and rename some of the column names. Then, we use pandas library to create the dataframe. "
   ]
  },
  {
   "cell_type": "markdown",
   "metadata": {},
   "source": [
    "### 2. Get the coordinates of the targeted cities."
   ]
  },
  {
   "cell_type": "markdown",
   "metadata": {},
   "source": [
    "Since the population is one of the most important factors in determining a successful gym business, we narrow down our list of cities and only targeted on the three cities that are most populated in United States. Then, we use Geopy library to get the coordinates of these cities. After getting the coordinates, we double check with google search result to ensure the accurateness of the coordinates. "
   ]
  },
  {
   "cell_type": "markdown",
   "metadata": {},
   "source": [
    "### 3. Get the Per capita Income Data."
   ]
  },
  {
   "cell_type": "markdown",
   "metadata": {},
   "source": [
    "We scrape the data of Per capita Income from the wikipedia article \"List of United States counties by per capita income\". Per capita income is also one of the important factors in determining a successful gym business. When the income level is high enough, people are willing to spend extra moneny in fitness activities."
   ]
  },
  {
   "cell_type": "markdown",
   "metadata": {},
   "source": [
    "### 4. Foursquare Data"
   ]
  },
  {
   "cell_type": "markdown",
   "metadata": {},
   "source": [
    "We also use Foursquare Data to get some of the most common venues that can be found in our targeted cities. "
   ]
  }
 ],
 "metadata": {
  "kernelspec": {
   "display_name": "Python 3",
   "language": "python",
   "name": "python3"
  },
  "language_info": {
   "codemirror_mode": {
    "name": "ipython",
    "version": 3
   },
   "file_extension": ".py",
   "mimetype": "text/x-python",
   "name": "python",
   "nbconvert_exporter": "python",
   "pygments_lexer": "ipython3",
   "version": "3.7.3"
  }
 },
 "nbformat": 4,
 "nbformat_minor": 2
}
